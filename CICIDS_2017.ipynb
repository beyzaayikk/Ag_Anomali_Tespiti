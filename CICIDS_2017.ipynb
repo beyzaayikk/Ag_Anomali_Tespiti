{
  "nbformat": 4,
  "nbformat_minor": 0,
  "metadata": {
    "colab": {
      "provenance": [],
      "mount_file_id": "1IjQHhfTdY-KeRRD7fXN5tfxHfNTB-IzD",
      "authorship_tag": "ABX9TyMgHJ1QNbGCPr0M71QGa1II"
    },
    "kernelspec": {
      "name": "python3",
      "display_name": "Python 3"
    },
    "language_info": {
      "name": "python"
    }
  },
  "cells": [
    {
      "cell_type": "code",
      "execution_count": 1,
      "metadata": {
        "id": "OMfPTi94IGbL"
      },
      "outputs": [],
      "source": [
        "import pandas as pd\n"
      ]
    }
  ]
}